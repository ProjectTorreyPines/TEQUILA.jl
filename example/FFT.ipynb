{
 "cells": [
  {
   "cell_type": "code",
   "execution_count": 4,
   "id": "09716667",
   "metadata": {},
   "outputs": [
    {
     "name": "stderr",
     "output_type": "stream",
     "text": [
      "\u001b[32m\u001b[1m   Resolving\u001b[22m\u001b[39m package versions...\n",
      "\u001b[32m\u001b[1m  No Changes\u001b[22m\u001b[39m to `~/.julia/environments/v1.7/Project.toml`\n",
      "\u001b[32m\u001b[1m  No Changes\u001b[22m\u001b[39m to `~/.julia/environments/v1.7/Manifest.toml`\n"
     ]
    },
    {
     "name": "stdout",
     "output_type": "stream",
     "text": [
      "[2.3118693751789045e-15, -2.4508404857715234e-15, -9.521461806981277e-15, 3.008559544062215e-15, 4.429449721048407e-15, 2.0497793821768183e-15, -4.934301695495705e-16, -3.4128288140831824e-16]\n",
      "[-0.0, -1.0000000000000038, -0.9999999999999968, 5.789859109223663e-15, 5.273559366969494e-16, -2.536813575465011e-15, 8.881784197001252e-16, 1.0000000000000002]\n"
     ]
    }
   ],
   "source": [
    "import Pkg; Pkg.add(\"FFTW\")\n",
    "\n",
    "using FFTW, Plots"
   ]
  },
  {
   "cell_type": "code",
   "execution_count": 14,
   "id": "e5188487",
   "metadata": {},
   "outputs": [
    {
     "name": "stdout",
     "output_type": "stream",
     "text": [
      "[0.0, 0.0, 0.0, 0.0, 0.0, 0.0, 0.0, 0.0, 0.0, 0.0, 0.0, 0.0, 0.0, 0.0, 0.0, 0.0, 0.0, 0.0, 0.0, 0.0, 0.0, 0.0, 0.0, 0.0, 0.0, 0.0, 0.0, 0.0, 0.0, 0.0, 1.0000000000000027]\n",
      "[0.0, 0.0, 0.0, 0.0, 0.0, 0.0, 0.0, 1.000000000000001, 0.0, 0.0, 0.0, 0.0, 0.0, 0.0, 0.0, 0.9999999999999992, 0.0, 0.0, 0.0, 0.0, 0.0, 0.0, 0.0, 0.0, 0.0, 0.0, 0.0, 0.0, 0.0, 0.0, 1.698478961283989e-14]\n"
     ]
    }
   ],
   "source": [
    "N = 63;\n",
    "P = 1.0;\n",
    "Δt = P / N\n",
    "x = 0.0:Δt:(P-Δt)   # lenght(x) == N\n",
    "y = [sin(2π*7*t) + sin(2π*15*t) + cos(2π*30*t) for t in x] # mixture of simple wave signal\n",
    "plot(x, y, legend = false, linewidth=2)\n",
    "Fy = fft(y)[1:N÷2]\n",
    "ak =  2/N * real.(Fy)\n",
    "bk = -2/N * imag.(Fy)  # fft sign convention\n",
    "ak[1] = ak[1]/2\n",
    "yr = zeros(N,1)\n",
    "for i in 1:N÷2\n",
    "    yr .+= ak[i] * cos.(2π*(i-1)/P * x) .+ bk[i] * sin.(2π*(i-1)/P * x)\n",
    "end\n",
    "plot!(x, yr, linestyle=:dash, linewidth=2)\n",
    "ak[ak.<1e-14] .= 0.0\n",
    "bk[bk.<1e-14] .= 0.0\n",
    "println(ak)\n",
    "println(bk)"
   ]
  },
  {
   "cell_type": "code",
   "execution_count": 54,
   "id": "052a40d6",
   "metadata": {},
   "outputs": [
    {
     "data": {
      "text/plain": [
       "fourier_decompose (generic function with 1 method)"
      ]
     },
     "execution_count": 54,
     "metadata": {},
     "output_type": "execute_result"
    }
   ],
   "source": [
    "function fourier_decompose(f, M)\n",
    "    N = M+1\n",
    "    Δθ = π / (N+1)\n",
    "    x = 0.0:Δθ:(2π-Δθ)\n",
    "    y = [f(θ) for θ in x]\n",
    "    Fy = fft(y)[1:N]\n",
    "    Cc =  real.(Fy) / (N + 1)\n",
    "    Sc = -imag.(Fy) / (N + 1)  # fft sign convention\n",
    "    Cc[1] = 0.5 * Cc[1]\n",
    "    Sc[1] = 0.0\n",
    "    return Cc, Sc\n",
    "end"
   ]
  },
  {
   "cell_type": "code",
   "execution_count": 57,
   "id": "80bb6746",
   "metadata": {},
   "outputs": [
    {
     "name": "stdout",
     "output_type": "stream",
     "text": [
      "[1.9984014443252818e-15, 4.163336342344337e-16, 3.4416913763379853e-15, 6.661338147750939e-16, 1.9984014443252818e-15, 0.0, 0.0, -1.5543122344752192e-15, -3.164135620181696e-15, 1.609823385706477e-15, -5.88418203051333e-15]\n",
      "[0.0, -3.3306690738754696e-16, -1.1102230246251565e-15, -2.6645352591003757e-15, 0.0, -3.774758283725532e-15, -2.220446049250313e-15, -2.55351295663786e-15, -1.1102230246251565e-16, -2.4424906541753444e-15, 1.5543122344752192e-15]\n"
     ]
    }
   ],
   "source": [
    "N = 10\n",
    "C = randn(N+1)\n",
    "S = randn(N+1)\n",
    "S[1] = 0.0\n",
    "\n",
    "function f(θ)\n",
    "    ms = 0:N\n",
    "    return sum(C.*cos.(ms .* θ) .+ S.*sin.(ms .* θ))\n",
    "end\n",
    "Cc, Sc = fourier_decompose(f, N)\n",
    "println(C-Cc)\n",
    "println(S-Sc)"
   ]
  },
  {
   "cell_type": "code",
   "execution_count": null,
   "id": "4a851550",
   "metadata": {},
   "outputs": [],
   "source": []
  },
  {
   "cell_type": "code",
   "execution_count": null,
   "id": "15683d35",
   "metadata": {},
   "outputs": [],
   "source": []
  },
  {
   "cell_type": "code",
   "execution_count": null,
   "id": "98ba7bff",
   "metadata": {},
   "outputs": [],
   "source": []
  }
 ],
 "metadata": {
  "kernelspec": {
   "display_name": "Julia 1.7.2",
   "language": "julia",
   "name": "julia-1.7"
  },
  "language_info": {
   "file_extension": ".jl",
   "mimetype": "application/julia",
   "name": "julia",
   "version": "1.7.3"
  }
 },
 "nbformat": 4,
 "nbformat_minor": 5
}
